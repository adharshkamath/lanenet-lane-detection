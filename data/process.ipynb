{
 "cells": [
  {
   "cell_type": "code",
   "execution_count": 273,
   "metadata": {},
   "outputs": [],
   "source": [
    "import cv2\n",
    "import numpy as np\n",
    "import sys\n",
    "import os"
   ]
  },
  {
   "cell_type": "code",
   "execution_count": 274,
   "metadata": {},
   "outputs": [],
   "source": [
    "masked_image = np.array(cv2.imread(\"mask_image2.png\"))\n",
    "image_height, image_width, _ = masked_image.shape\n",
    "lane_colors = np.unique(masked_image.reshape(-1, masked_image.shape[2]), axis=0)\n",
    "lane_colors = lane_colors[lane_colors[:, 1] > 0]\n",
    "lane_points = {}\n",
    "\n",
    "for color in lane_colors:\n",
    "    lane_points[str(color)] = np.argwhere(np.all(masked_image == color, axis=-1))\n",
    "lane_points = {\n",
    "    k : v for k, v in lane_points.items() if len(v) > 50\n",
    "}\n",
    "lane_colors = list(lane_points.keys())\n",
    "for color in lane_colors:\n",
    "    points = lane_points[str(color)]\n",
    "    points = points[np.argsort(points[:, 1])]\n",
    "    points[:, 0] = masked_image.shape[0] - points[:, 0]\n",
    "    lane_curves[str(color)] = np.polyfit(points[:, 1], points[:, 0], 2)\n",
    "\n",
    "center_line = [(image_width // 2, x) for x in range(image_height)]\n",
    "center_line = np.array(center_line)"
   ]
  },
  {
   "cell_type": "code",
   "execution_count": 275,
   "metadata": {},
   "outputs": [
    {
     "data": {
      "text/plain": [
       "{'[  0 255   0]': array([ 2.46574422e-03, -2.36521771e+00,  5.67784603e+02]),\n",
       " '[125 125   0]': array([ 2.56165019e-04,  6.30862716e-01, -3.04254122e+01])}"
      ]
     },
     "execution_count": 275,
     "metadata": {},
     "output_type": "execute_result"
    }
   ],
   "source": [
    "lane_curves"
   ]
  },
  {
   "cell_type": "code",
   "execution_count": 283,
   "metadata": {},
   "outputs": [
    {
     "data": {
      "text/plain": [
       "[array([[   0, -320],\n",
       "        [   5, -309],\n",
       "        [  10, -297],\n",
       "        [  15, -285],\n",
       "        [  20, -274],\n",
       "        [  25, -263],\n",
       "        [  30, -252],\n",
       "        [  35, -241],\n",
       "        [  40, -230],\n",
       "        [  45, -219],\n",
       "        [  50, -208],\n",
       "        [  55, -198],\n",
       "        [  60, -187],\n",
       "        [  65, -177],\n",
       "        [  70, -167],\n",
       "        [  75, -157],\n",
       "        [  80, -147],\n",
       "        [  85, -137],\n",
       "        [  90, -127],\n",
       "        [  95, -118],\n",
       "        [ 100, -108],\n",
       "        [ 105,  -99],\n",
       "        [ 110,  -90],\n",
       "        [ 115,  -81],\n",
       "        [ 120,  -72],\n",
       "        [ 125,  -63],\n",
       "        [ 130,  -54],\n",
       "        [ 135,  -46],\n",
       "        [ 140,  -37],\n",
       "        [ 145,  -29],\n",
       "        [ 150,  -21],\n",
       "        [ 155,  -13],\n",
       "        [ 160,   -5],\n",
       "        [ 165,    2],\n",
       "        [ 170,   10],\n",
       "        [ 175,   17],\n",
       "        [ 180,   25],\n",
       "        [ 185,   32],\n",
       "        [ 190,   39],\n",
       "        [ 195,   46],\n",
       "        [ 200,   53],\n",
       "        [ 205,   60],\n",
       "        [ 210,   67],\n",
       "        [ 215,   73],\n",
       "        [ 220,   80],\n",
       "        [ 225,   86],\n",
       "        [ 230,   92],\n",
       "        [ 235,   98],\n",
       "        [ 240,  104],\n",
       "        [ 245,  110],\n",
       "        [ 250,  116],\n",
       "        [ 255,  122],\n",
       "        [ 260,  127],\n",
       "        [ 265,  132],\n",
       "        [ 270,  138],\n",
       "        [ 275,  143],\n",
       "        [ 280,  148],\n",
       "        [ 285,  153],\n",
       "        [ 290,  157],\n",
       "        [ 295,  162],\n",
       "        [ 300,  166],\n",
       "        [ 305,  171],\n",
       "        [ 310,  175],\n",
       "        [ 315,  179],\n",
       "        [ 320,  183],\n",
       "        [ 325,  187],\n",
       "        [ 330,  191],\n",
       "        [ 335,  194],\n",
       "        [ 340,  198],\n",
       "        [ 345,  201],\n",
       "        [ 350,  204],\n",
       "        [ 355,  208],\n",
       "        [ 360,  211],\n",
       "        [ 365,  214],\n",
       "        [ 370,  216],\n",
       "        [ 375,  219],\n",
       "        [ 380,  221],\n",
       "        [ 385,  224],\n",
       "        [ 390,  226],\n",
       "        [ 395,  228],\n",
       "        [ 400,  230],\n",
       "        [ 405,  232],\n",
       "        [ 410,  234],\n",
       "        [ 415,  236],\n",
       "        [ 420,  237],\n",
       "        [ 425,  239],\n",
       "        [ 430,  240],\n",
       "        [ 435,  241],\n",
       "        [ 440,  242],\n",
       "        [ 445,  243],\n",
       "        [ 450,  244],\n",
       "        [ 455,  244],\n",
       "        [ 460,  245],\n",
       "        [ 465,  245],\n",
       "        [ 470,  246],\n",
       "        [ 475,  246],\n",
       "        [ 480,  246],\n",
       "        [ 485,  246],\n",
       "        [ 490,  246],\n",
       "        [ 495,  245]]),\n",
       " array([[  0, 277],\n",
       "        [  5, 274],\n",
       "        [ 10, 271],\n",
       "        [ 15, 267],\n",
       "        [ 20, 264],\n",
       "        [ 25, 261],\n",
       "        [ 30, 258],\n",
       "        [ 35, 255],\n",
       "        [ 40, 251],\n",
       "        [ 45, 248],\n",
       "        [ 50, 245],\n",
       "        [ 55, 241],\n",
       "        [ 60, 238],\n",
       "        [ 65, 235],\n",
       "        [ 70, 232],\n",
       "        [ 75, 228],\n",
       "        [ 80, 225],\n",
       "        [ 85, 221],\n",
       "        [ 90, 218],\n",
       "        [ 95, 215],\n",
       "        [100, 211],\n",
       "        [105, 208],\n",
       "        [110, 204],\n",
       "        [115, 201],\n",
       "        [120, 198],\n",
       "        [125, 194],\n",
       "        [130, 191],\n",
       "        [135, 187],\n",
       "        [140, 184],\n",
       "        [145, 180],\n",
       "        [150, 177],\n",
       "        [155, 173],\n",
       "        [160, 169],\n",
       "        [165, 166],\n",
       "        [170, 162],\n",
       "        [175, 159],\n",
       "        [180, 155],\n",
       "        [185, 151],\n",
       "        [190, 148],\n",
       "        [195, 144],\n",
       "        [200, 141],\n",
       "        [205, 137],\n",
       "        [210, 133],\n",
       "        [215, 129],\n",
       "        [220, 126],\n",
       "        [225, 122],\n",
       "        [230, 118],\n",
       "        [235, 115],\n",
       "        [240, 111],\n",
       "        [245, 107],\n",
       "        [250, 103],\n",
       "        [255,  99],\n",
       "        [260,  96],\n",
       "        [265,  92],\n",
       "        [270,  88],\n",
       "        [275,  84],\n",
       "        [280,  80],\n",
       "        [285,  76],\n",
       "        [290,  72],\n",
       "        [295,  69],\n",
       "        [300,  65],\n",
       "        [305,  61],\n",
       "        [310,  57],\n",
       "        [315,  53],\n",
       "        [320,  49],\n",
       "        [325,  45],\n",
       "        [330,  41],\n",
       "        [335,  37],\n",
       "        [340,  33],\n",
       "        [345,  29],\n",
       "        [350,  25],\n",
       "        [355,  21],\n",
       "        [360,  17],\n",
       "        [365,  13],\n",
       "        [370,   8],\n",
       "        [375,   4],\n",
       "        [380,   0],\n",
       "        [385,  -3],\n",
       "        [390,  -7],\n",
       "        [395, -11],\n",
       "        [400, -15],\n",
       "        [405, -20],\n",
       "        [410, -24],\n",
       "        [415, -28],\n",
       "        [420, -32],\n",
       "        [425, -36],\n",
       "        [430, -41],\n",
       "        [435, -45],\n",
       "        [440, -49],\n",
       "        [445, -54],\n",
       "        [450, -58],\n",
       "        [455, -62],\n",
       "        [460, -66],\n",
       "        [465, -71],\n",
       "        [470, -75],\n",
       "        [475, -80],\n",
       "        [480, -84],\n",
       "        [485, -88],\n",
       "        [490, -93],\n",
       "        [495, -97]])]"
      ]
     },
     "execution_count": 283,
     "metadata": {},
     "output_type": "execute_result"
    }
   ],
   "source": [
    "lanepoints = [\n",
    "    lanepoints[str(lane_color)]\n",
    "    for lane_color in lane_colors\n",
    "]\n",
    "lanepoints"
   ]
  },
  {
   "cell_type": "code",
   "execution_count": 282,
   "metadata": {},
   "outputs": [
    {
     "data": {
      "text/plain": [
       "<matplotlib.image.AxesImage at 0x734548879070>"
      ]
     },
     "execution_count": 282,
     "metadata": {},
     "output_type": "execute_result"
    },
    {
     "data": {
      "image/png": "[encoded data removed]",
      "text/plain": [
       "<Figure size 640x480 with 1 Axes>"
      ]
     },
     "metadata": {},
     "output_type": "display_data"
    }
   ],
   "source": [
    "lanepoints = {}\n",
    "\n",
    "for curve in lane_curves:\n",
    "    x = np.linspace(0, image_width, 100)\n",
    "    y = np.polyval(lane_curves[curve], x)\n",
    "    y = image_height - y\n",
    "    y = y.astype(int)\n",
    "    x = x.astype(int)\n",
    "    lanepoints[curve] = np.array(list(zip(x, y)))\n",
    "    plt.plot(x, y, color='red')\n",
    "plt.imshow(masked_image)"
   ]
  },
  {
   "cell_type": "code",
   "execution_count": 304,
   "metadata": {},
   "outputs": [
    {
     "data": {
      "image/png": "[encoded data removed]",
      "text/plain": [
       "<Figure size 640x480 with 1 Axes>"
      ]
     },
     "metadata": {},
     "output_type": "display_data"
    }
   ],
   "source": [
    "center_lanepoints = []\n",
    "for y in range(image_height):\n",
    "    left_x_for_y = None\n",
    "    right_x_for_y = None\n",
    "    for lane in lanepoints:\n",
    "        for x, y_ in lane:\n",
    "            if y_ == y:\n",
    "                if x < image_width // 2:\n",
    "                    left_x_for_y = x\n",
    "                else:\n",
    "                    right_x_for_y = x\n",
    "    if left_x_for_y is not None and right_x_for_y is not None:\n",
    "        center_lanepoints.append([left_x_for_y + (right_x_for_y - left_x_for_y) / 2, y])\n",
    "\n",
    "center_lanepoints = np.array(center_lanepoints)\n",
    "center_line = np.polyfit(center_lanepoints[:, 0], center_lanepoints[:, 1], 2)\n",
    "plt.plot(lanepoints[0][:, 0], lanepoints[0][:, 1], color='red')\n",
    "plt.plot(lanepoints[1][:, 0], lanepoints[1][:, 1], color='red')\n",
    "plt.plot(center_lanepoints[:, 0], center_lanepoints[:, 1], color='green')\n",
    "plt.imshow(masked_image)\n",
    "plt.show()"
   ]
  },
  {
   "cell_type": "code",
   "execution_count": 143,
   "metadata": {},
   "outputs": [
    {
     "data": {
      "image/png": "[encoded data removed]",
      "text/plain": [
       "<Figure size 640x480 with 1 Axes>"
      ]
     },
     "metadata": {},
     "output_type": "display_data"
    }
   ],
   "source": [
    "import matplotlib.pyplot as plt\n",
    "\n",
    "for lane in lane_points:\n",
    "    points = lane_points[lane]\n",
    "    x = points[:,1]\n",
    "    z = lane_curves[lane][0] * x ** 2 + lane_curves[lane][1] * x + lane_curves[lane][2]\n",
    "    plt.plot(x,z, '-')\n",
    "\n",
    "plt.plot(center_line[:,0], center_line[:,1], '-')\n",
    "plt.show()"
   ]
  },
  {
   "cell_type": "code",
   "execution_count": 7,
   "metadata": {},
   "outputs": [
    {
     "name": "stdout",
     "output_type": "stream",
     "text": [
      "Cross Track Error: -238.4535743227848\n",
      "Heading Angle: 0.00010417623600526604\n"
     ]
    }
   ],
   "source": [
    "import numpy as np\n",
    "import cv2\n",
    "import matplotlib.pyplot as plt\n",
    "\n",
    "def find_lane_points(mask_image):\n",
    "    # Convert mask image to grayscale\n",
    "    gray = cv2.cvtColor(mask_image, cv2.COLOR_BGR2GRAY)\n",
    "    # Find lane points\n",
    "    points = np.column_stack(np.where(gray > 0))\n",
    "    return points\n",
    "\n",
    "def fit_polynomial(points):\n",
    "    # Fit a second-order polynomial to the lane points\n",
    "    x = points[:, 1]\n",
    "    y = points[:, 0]\n",
    "    poly_params = np.polyfit(x, y, 2)\n",
    "    return poly_params\n",
    "\n",
    "def calculate_cte(poly_params, vehicle_position):\n",
    "    # Calculate the cross track error\n",
    "    x = vehicle_position[0]\n",
    "    y = vehicle_position[1]\n",
    "    # Polynomial value at vehicle's x position\n",
    "    poly_value = np.polyval(poly_params, x)\n",
    "    # CTE is the difference between the polynomial value and the vehicle's y position\n",
    "    cte = y - poly_value\n",
    "    return cte\n",
    "\n",
    "def calculate_heading_angle(poly_params, vehicle_position):\n",
    "    # Calculate the heading angle\n",
    "    x = vehicle_position[0]\n",
    "    # Derivative of the polynomial at vehicle's x position\n",
    "    poly_derivative = np.polyder(poly_params)\n",
    "    slope = np.polyval(poly_derivative, x)\n",
    "    # Heading angle is the arctangent of the slope\n",
    "    heading_angle = np.arctan(slope)\n",
    "    return heading_angle\n",
    "\n",
    "# Example usage\n",
    "mask_image = cv2.imread(\"mask_image2.png\")\n",
    "image_height, image_width = mask_image.shape[:2]\n",
    "vehicle_position = (image_width // 2, 0)\n",
    "\n",
    "lane_points = find_lane_points(mask_image)\n",
    "poly_params = fit_polynomial(lane_points)\n",
    "cte = calculate_cte(poly_params, vehicle_position)\n",
    "heading_angle = calculate_heading_angle(poly_params, vehicle_position)\n",
    "\n",
    "print(\"Cross Track Error:\", cte)\n",
    "print(\"Heading Angle:\", heading_angle)"
   ]
  }
 ],
 "metadata": {
  "kernelspec": {
   "display_name": "pc-env",
   "language": "python",
   "name": "python3"
  },
  "language_info": {
   "codemirror_mode": {
    "name": "ipython",
    "version": 3
   },
   "file_extension": ".py",
   "mimetype": "text/x-python",
   "name": "python",
   "nbconvert_exporter": "python",
   "pygments_lexer": "ipython3",
   "version": "3.8.20"
  }
 },
 "nbformat": 4,
 "nbformat_minor": 2
}
